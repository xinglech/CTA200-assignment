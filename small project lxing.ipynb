{
 "cells": [
  {
   "cell_type": "code",
   "execution_count": 1,
   "metadata": {
    "collapsed": true
   },
   "outputs": [],
   "source": [
    "import numpy as np\n",
    "import matplotlib\n",
    "import matplotlib.pyplot as plt"
   ]
  },
  {
   "cell_type": "code",
   "execution_count": 27,
   "metadata": {
    "collapsed": false,
    "scrolled": true
   },
   "outputs": [
    {
     "name": "stdout",
     "output_type": "stream",
     "text": [
      "(69631,)\n",
      "[ 2.81571212  2.75158907  2.66520843 ..., -1.0111114  -1.36113051\n",
      " -1.54240899]\n",
      "[ 0.33050207  0.93467346  5.20797087 ...,  2.40983368 -1.03500205\n",
      " -1.11310115]\n",
      "[  1.37419685   2.1565579    4.36925362 ...,  30.65202461  52.54526596\n",
      "   1.66938523]\n",
      "[ 2.02116315  2.02898064  2.04006438 ...,  0.98613062  1.48067701\n",
      "  1.69103643]\n"
     ]
    }
   ],
   "source": [
    "def read(fname, number_sites):\n",
    "    Phi, Phidot, GradPhi_2, V_Phi, fourindex, fiveindex = np.genfromtxt(\"fields.dat\", skip_header = 1, usecols = (0, 1, 2, 3, 4, 5), unpack = True)\n",
    "    for i in range(len(Phi[1:])):\n",
    "        func_time = \n",
    "print(Phi[1:].shape)\n",
    "print(Phi[1:])\n",
    "print(Phidot[1:])\n",
    "print(GradPhi_2[1:])\n",
    "print(V_Phi[1:])\n",
    "\n"
   ]
  },
  {
   "cell_type": "code",
   "execution_count": null,
   "metadata": {
    "collapsed": true
   },
   "outputs": [],
   "source": []
  }
 ],
 "metadata": {
  "kernelspec": {
   "display_name": "Python 2",
   "language": "python",
   "name": "python2"
  },
  "language_info": {
   "codemirror_mode": {
    "name": "ipython",
    "version": 2
   },
   "file_extension": ".py",
   "mimetype": "text/x-python",
   "name": "python",
   "nbconvert_exporter": "python",
   "pygments_lexer": "ipython2",
   "version": "2.7.10"
  }
 },
 "nbformat": 4,
 "nbformat_minor": 0
}
